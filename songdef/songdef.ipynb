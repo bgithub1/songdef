{
 "cells": [
  {
   "cell_type": "code",
   "execution_count": 1,
   "metadata": {},
   "outputs": [],
   "source": [
    "import pandas as pd\n",
    "import numpy as np\n",
    "from enum import Enum\n",
    "import copy\n",
    "import pdb\n",
    "import sys,os\n",
    "if os.path.abspath('..') not in sys.path:\n",
    "    sys.path.append(os.path.abspath('..'))\n",
    "if os.path.abspath('.') not in sys.path:\n",
    "    sys.path.append(os.path.abspath('.'))    \n",
    "from songdef import *"
   ]
  },
  {
   "cell_type": "code",
   "execution_count": 2,
   "metadata": {},
   "outputs": [
    {
     "data": {
      "text/plain": [
       "True"
      ]
     },
     "execution_count": 2,
     "metadata": {},
     "output_type": "execute_result"
    }
   ],
   "source": [
    "# self.is_superset_of(other) where other is a subset of self\n",
    "Major7(2)._issupersetof(Major(2))"
   ]
  },
  {
   "cell_type": "code",
   "execution_count": 3,
   "metadata": {},
   "outputs": [
    {
     "data": {
      "text/plain": [
       "[<songdef.MeasureFraction at 0x10e8248d0>]"
      ]
     },
     "execution_count": 3,
     "metadata": {},
     "output_type": "execute_result"
    }
   ],
   "source": [
    "mm = Measure(Major(1))\n",
    "mm.measure_fraction_list"
   ]
  },
  {
   "cell_type": "code",
   "execution_count": 4,
   "metadata": {},
   "outputs": [
    {
     "name": "stdout",
     "output_type": "stream",
     "text": [
      "************************************ VERSE ************************************\n",
      "________________________________  ________________________________  \n",
      "D                                 F#min7                            \n",
      "________________________________  ________________________________  \n",
      "Emin7                             A               A7                \n",
      "________________________________  ________________________________  \n",
      "D                                 F#min7                            \n",
      "________________________________  \n",
      "Emin7           Gmin              \n",
      " \n",
      "************************************* CHORUS *************************************\n",
      "________________________________  ________________________________  \n",
      "D                                 D                                 \n",
      "________________________________  ________________________________  \n",
      "Emin7/A                           A7                                \n",
      "________________________________  ________________________________  \n",
      "A7                                G/D                               \n",
      "________________________________  ________________________________  \n",
      "D                                 A7                                \n",
      "________________________________  ________________________________  \n",
      "A7                                G/D                               \n",
      "________________________________  \n",
      "D                                 \n"
     ]
    }
   ],
   "source": [
    "# main verse\n",
    "m1 = Measure(Major(1))\n",
    "m2 = Measure(Minor7(3))\n",
    "m3 = Measure(Minor7(2))\n",
    "m4 = Measure([(Major(5),16),(Dom7(5),16)])\n",
    "m3_min = Measure([(Minor7(2),16),(Minor(4),16)])\n",
    "acr_univ_verse = SongPart([m1,m2,m3,m4,m1,m2,m3_min],part_type='verse')\n",
    "\n",
    "# chorus\n",
    "chm_1 = m1\n",
    "twomin7_b5 = Minor7(2)\n",
    "twomin7_b5.bass_num = 5\n",
    "four_b1 = Major(4,bass_num=1)\n",
    "chm_1 = m1\n",
    "chm_2 = m1\n",
    "chm_3 = Measure(twomin7_b5)\n",
    "chm_4 = Measure(Dom7(5))\n",
    "chm_5 = Measure(Dom7(5))\n",
    "chm_6 = Measure(four_b1)\n",
    "chm_7 = m1\n",
    "chm_8 = Measure(Dom7(5))\n",
    "chm_9 = chm_8\n",
    "chm_10 = Measure(four_b1)\n",
    "chm_11 = m1\n",
    "\n",
    "acr_univ_chorus = SongPart([chm_1,chm_2,chm_3,chm_4,chm_5,chm_6,chm_7,chm_8,chm_9,chm_10,chm_11],part_type='chorus')\n",
    "acr_univ = Song([acr_univ_verse,acr_univ_chorus])\n",
    "acr_univ.print_song('D')"
   ]
  },
  {
   "cell_type": "code",
   "execution_count": 5,
   "metadata": {},
   "outputs": [
    {
     "name": "stdout",
     "output_type": "stream",
     "text": [
      "['3min7', '2min7']\n",
      "['3min7', '2min7']\n"
     ]
    }
   ],
   "source": [
    "# p = [Minor(3),Minor(2),Major(5)]\n",
    "p = [Minor(3),Minor(2)]\n",
    "results = acr_univ.find_song_pattern(p)\n",
    "for r in results:\n",
    "    print([str(c) for c in r])"
   ]
  },
  {
   "cell_type": "code",
   "execution_count": 6,
   "metadata": {},
   "outputs": [
    {
     "data": {
      "text/plain": [
       "['1',\n",
       " '3min7',\n",
       " '2min7',\n",
       " '5',\n",
       " '57',\n",
       " '1',\n",
       " '3min7',\n",
       " '2min7',\n",
       " '4min',\n",
       " '1',\n",
       " '1',\n",
       " '2min7',\n",
       " '57',\n",
       " '57',\n",
       " '4/1',\n",
       " '1',\n",
       " '57',\n",
       " '57',\n",
       " '4/1',\n",
       " '1']"
      ]
     },
     "execution_count": 6,
     "metadata": {},
     "output_type": "execute_result"
    }
   ],
   "source": [
    "[str(c).replace(' ','') for c in acr_univ.all_chords()]"
   ]
  },
  {
   "cell_type": "code",
   "execution_count": 7,
   "metadata": {},
   "outputs": [
    {
     "name": "stdout",
     "output_type": "stream",
     "text": [
      "['Ef', 'Fmin', 'Gmin', 'Af', 'Bf', 'Cmin']\n",
      "['Emaj7', 'F#min7', 'G#min7', 'Amaj7', 'B7', 'C#min7', 'D#min7f5']\n"
     ]
    }
   ],
   "source": [
    "# diatonic_triads = [Major,Minor,Minor,Major,Major,Minor]\n",
    "# print([str(diatonic_triads[i](i+1,key='Ef')) for i in range(len(diatonic_triads))])\n",
    "# diatonic = [Major7,Minor7,Minor7,Major7,Dom7,Minor7,Minor7f5]\n",
    "# print([str(diatonic[i](i+1,key='E')) for i in range(len(diatonic))])\n",
    "print([str(c) for c in diatonic_triad_chords()])\n",
    "print([str(c) for c in diatonic_chords()])\n"
   ]
  },
  {
   "cell_type": "code",
   "execution_count": 8,
   "metadata": {},
   "outputs": [],
   "source": [
    "def aynil():\n",
    "    m1 = Measure([(Major(1),16),(Major(5,bass_num=7),16)])\n",
    "    m2 = Measure(Minor(6))\n",
    "    m3 = m1\n",
    "    m4 = m2\n",
    "    m5 = Measure([(Dom7(5,bass_num=2),16),(Major(1),16)])\n",
    "    m6 = Measure([(Dom7(5,bass_num=7),16),(Dom7(5,emb2=Emb(9),bass_num=6),16)])\n",
    "    m7 = Measure([(Dom7(5),16),(Dom7(5,bass_num=4),16)])\n",
    "    m8 = Measure(Dom7(5))\n",
    "    all_you_need_is_love_intro = SongPart([m1,m2,m3,m4,m5,m6,m7,m8],part_type='intro')\n",
    "    all_you_need_is_love_verse = SongPart([m1,m2,m3,m4,m5,m6,m7,m8],part_type='verse')\n",
    "\n",
    "    ch1 = Measure([(Major(1),16),(Dom7(2,emb2=Emb(4)),16)])\n",
    "    ch2 = Measure(Dom7(5))\n",
    "    ch3 = ch1\n",
    "    ch4 = ch2\n",
    "    ch5 = Measure([(Major(1),16),(Dom7(3),16)])\n",
    "    ch6 = Measure([(Minor(6),16),(Major(1,bass_num=5),16)])\n",
    "    ch7 = Measure([(Major(4),16),(Dom7(5),16)])\n",
    "    all_you_need_is_love_chorus = SongPart([ch1,ch2,ch3,ch4,ch5,ch6,ch7],'chorus')\n",
    "    all_you_need_is_love = Song([all_you_need_is_love_intro,all_you_need_is_love_verse,all_you_need_is_love_chorus])\n",
    "    return all_you_need_is_love\n"
   ]
  },
  {
   "cell_type": "code",
   "execution_count": 9,
   "metadata": {},
   "outputs": [
    {
     "name": "stdout",
     "output_type": "stream",
     "text": [
      "************************************ INTRO ************************************\n",
      "________________________________  ________________________________  \n",
      "G               D/F#              Emin                              \n",
      "________________________________  ________________________________  \n",
      "G               D/F#              Emin                              \n",
      "________________________________  ________________________________  \n",
      "D7/A            G                 D7/F#           D79/E             \n",
      "________________________________  ________________________________  \n",
      "D7              D7/C              D7                                \n",
      "\n",
      "\n",
      " \n",
      "************************************ VERSE ************************************\n",
      "________________________________  ________________________________  \n",
      "G               D/F#              Emin                              \n",
      "________________________________  ________________________________  \n",
      "G               D/F#              Emin                              \n",
      "________________________________  ________________________________  \n",
      "D7/A            G                 D7/F#           D79/E             \n",
      "________________________________  ________________________________  \n",
      "D7              D7/C              D7                                \n",
      "\n",
      "\n",
      " \n",
      "************************************* CHORUS *************************************\n",
      "________________________________  ________________________________  \n",
      "G               A74               D7                                \n",
      "________________________________  ________________________________  \n",
      "G               A74               D7                                \n",
      "________________________________  ________________________________  \n",
      "G               B7                Emin            G/D               \n",
      "________________________________  \n",
      "C               D7                \n"
     ]
    }
   ],
   "source": [
    "aynil().print_song('G')"
   ]
  },
  {
   "cell_type": "code",
   "execution_count": null,
   "metadata": {},
   "outputs": [],
   "source": []
  },
  {
   "cell_type": "code",
   "execution_count": 10,
   "metadata": {},
   "outputs": [
    {
     "name": "stdout",
     "output_type": "stream",
     "text": [
      "************************************* VERSE1 *************************************\n",
      "________________________________  ________________________________  \n",
      "F#min7                            B7                                \n",
      "________________________________  ________________________________  \n",
      "E                                 C#min7                            \n",
      "________________________________  ________________________________  \n",
      "A                                 F#min7                            \n",
      "________________________________  ________________________________  \n",
      "D                                 B7                                \n",
      "________________________________  ________________________________  \n",
      "F#min7                            B7                                \n",
      "________________________________  ________________________________  \n",
      "E                                 C#min7                            \n",
      "________________________________  ________________________________  \n",
      "A                                 B7                                \n",
      "________________________________  \n",
      "E                                 \n",
      " \n",
      "************************************* CHORUS1 *************************************\n",
      "________________________________  ________________________________  \n",
      "C#min7                            C+5                               \n",
      "________________________________  ________________________________  \n",
      "E                                 E                                 \n",
      "________________________________  ________________________________  \n",
      "C#min7                            C+5                               \n",
      "________________________________  \n",
      "E                                 \n",
      " \n",
      "************************************* BRIDGE *************************************\n",
      "________________________________  ________________________________  \n",
      "A                                 A                                 \n",
      "________________________________  ________________________________  \n",
      "E                                 E                                 \n",
      "________________________________  ________________________________  \n",
      "F#min7                            B7                                \n",
      "________________________________  ________________________________  \n",
      "E                                 E                                 \n",
      "\n",
      "\n",
      " \n",
      "************************************* VERSE2 *************************************\n",
      "________________________________  ________________________________  \n",
      "F#min7                            B7                                \n",
      "________________________________  ________________________________  \n",
      "E                                 C#min7                            \n",
      "________________________________  ________________________________  \n",
      "A                                 F#min7                            \n",
      "________________________________  ________________________________  \n",
      "D                                 B7                                \n",
      "________________________________  ________________________________  \n",
      "F#min7                            B7                                \n",
      "________________________________  ________________________________  \n",
      "E                                 C#min7                            \n",
      "________________________________  ________________________________  \n",
      "A                                 B7                                \n",
      "________________________________  \n",
      "E                                 \n",
      " \n",
      "************************************* CHORUS2 *************************************\n",
      "________________________________  ________________________________  \n",
      "C#min7                            C+5                               \n",
      "________________________________  ________________________________  \n",
      "E                                 E                                 \n",
      "________________________________  ________________________________  \n",
      "C#min7                            C+5                               \n",
      "________________________________  ________________________________  \n",
      "E                                 E                                 \n",
      "________________________________  ________________________________  \n",
      "C#min7                            C#min7                            \n",
      "________________________________  ________________________________  \n",
      "E                                 E                                 \n",
      "________________________________  ________________________________  \n",
      "C#min7                            C+5                               \n",
      "________________________________  \n",
      "E                                 \n"
     ]
    }
   ],
   "source": [
    "# all my loving\n",
    "aml_m1 = Measure(Diac2())\n",
    "aml_m2 = Measure(Diac5())\n",
    "aml_m3 = Measure(Diatr1())\n",
    "aml_m4 = Measure(Diac6())\n",
    "aml_m5 = Measure(Diatr4())\n",
    "aml_m6 = Measure(Diac2())\n",
    "aml_m7 = Measure(Major(7,shfl=SharpFlat.FLAT))\n",
    "aml_m8 = Measure(Diac5())\n",
    "\n",
    "aml_m9 = aml_m1\n",
    "aml_m10 = aml_m2\n",
    "aml_m11 = aml_m3\n",
    "aml_m12 = aml_m4\n",
    "aml_m13 = aml_m5\n",
    "am1_m14 = Measure(Diac5())\n",
    "am1_m15 = Measure(Diatr1())\n",
    "verse_chords = [\n",
    "    aml_m1,aml_m2,aml_m3,aml_m4,aml_m5,\n",
    "    aml_m6,aml_m7,aml_m8,aml_m9,aml_m10,\n",
    "    aml_m11,aml_m12,aml_m13,am1_m14,am1_m15\n",
    "]\n",
    "all_my_loving_verse1 = SongPart(verse_chords,part_type='verse1')\n",
    "all_my_loving_verse2 = SongPart(verse_chords,part_type='verse2')\n",
    "\n",
    "# chorus1\n",
    "flat6_plus2 = Chord(6,shfl=SharpFlat.FLAT,emb2=Emb(5,shfl=SharpFlat.PLUS))\n",
    "ch1_m1 = Measure(Diac6())\n",
    "ch1_m2 = Measure(flat6_plus2)\n",
    "ch1_m3 = Measure(Diatr1())\n",
    "ch1_m4 = Measure(Diatr1())\n",
    "ch1_m5 = Measure(Diac6())\n",
    "ch1_m6 = Measure(flat6_plus2)\n",
    "ch1_m7 = Measure(Diatr1())\n",
    "ch1_chords = [ch1_m1,ch1_m2,ch1_m3,ch1_m4,ch1_m5,ch1_m6,ch1_m7]\n",
    "all_my_loving_chorus1 = SongPart(ch1_chords,part_type='chorus1')\n",
    "\n",
    "# chorus2\n",
    "ch2_m1_m7 = ch1_chords\n",
    "ch2_m8 = Measure(Diatr1())\n",
    "ch2_m9 = Measure(Diac6())\n",
    "ch2_m10 = Measure(Diac6())\n",
    "ch2_m11 = Measure(Diatr1())\n",
    "ch2_m12 = Measure(Diatr1())\n",
    "ch2_m13 = Measure(Diac6())\n",
    "ch2_m14 = Measure(flat6_plus2)\n",
    "ch2_m15 = Measure(Diatr1())\n",
    "ch2_chords = ch1_chords + [ch2_m8,ch2_m9,ch2_m10,ch2_m11,ch2_m12,ch2_m13,ch2_m14,ch2_m15]\n",
    "all_my_loving_chorus2 = SongPart(ch2_chords,part_type='chorus2')\n",
    "\n",
    "# bridge instrumental\n",
    "br_1 = Measure(Diatr4())\n",
    "br_2 = Measure(Diatr4())\n",
    "br_3 = Measure(Diatr1())\n",
    "br_4 = Measure(Diatr1())\n",
    "br_5 = Measure(Diac2()) \n",
    "br_6 = Measure(Diac5()) \n",
    "br_7 = Measure(Diatr1())\n",
    "br_8 = Measure(Diatr1())\n",
    "br_chords = [br_1,br_2,br_3,br_4,br_5,br_6,br_7,br_8]\n",
    "all_my_loving_bridge = SongPart(br_chords,part_type='bridge')\n",
    "\n",
    "\n",
    "all_my_loving = Song([all_my_loving_verse1,all_my_loving_chorus1,\n",
    "                      all_my_loving_bridge,\n",
    "                      all_my_loving_verse2,all_my_loving_chorus2])\n",
    "all_my_loving.print_song('E')\n"
   ]
  },
  {
   "cell_type": "code",
   "execution_count": 11,
   "metadata": {},
   "outputs": [
    {
     "data": {
      "text/plain": [
       "[['2min7', '57', '1', '6min7', '4', '2min7', '7f'],\n",
       " ['2min7', '57', '1', '6min7', '4', '2min7', '7f']]"
      ]
     },
     "execution_count": 11,
     "metadata": {},
     "output_type": "execute_result"
    }
   ],
   "source": [
    "found_patterns = all_my_loving.find_song_pattern([\n",
    "    Minor(2),Major(5),\n",
    "    Major(1),Minor(6),Major(4),Minor(2),Major(7,shfl=SharpFlat.FLAT)])\n",
    "[[str(c) for c in l] for l in found_patterns]"
   ]
  },
  {
   "cell_type": "code",
   "execution_count": 12,
   "metadata": {},
   "outputs": [
    {
     "data": {
      "text/plain": [
       "'2min7'"
      ]
     },
     "execution_count": 12,
     "metadata": {},
     "output_type": "execute_result"
    }
   ],
   "source": [
    "str(found_patterns[0][0])"
   ]
  },
  {
   "cell_type": "code",
   "execution_count": null,
   "metadata": {},
   "outputs": [],
   "source": []
  },
  {
   "cell_type": "code",
   "execution_count": 13,
   "metadata": {},
   "outputs": [
    {
     "name": "stdout",
     "output_type": "stream",
     "text": [
      "************************************ INTRO ************************************\n",
      "________________________________  ________________________________  \n",
      "F#min7                            F#min7                            \n",
      "________________________________  ________________________________  \n",
      "E6                                E6                                \n",
      "________________________________  ________________________________  \n",
      "F#min7                            F#min7                            \n",
      "________________________________  ________________________________  \n",
      "E6                                E6                                \n",
      "\n",
      "\n",
      " \n",
      "************************************* VERSE1 *************************************\n",
      "________________________________  ________________________________  \n",
      "F#min7                            C#min7                            \n",
      "________________________________  ________________________________  \n",
      "F#min7                            C#min7                            \n",
      "________________________________  ________________________________  \n",
      "F#min7                            C#min7                            \n",
      "________________________________  ________________________________  \n",
      "A                                 B7                                \n",
      "________________________________  ________________________________  \n",
      "E6                                E6                                \n",
      "________________________________  ________________________________  \n",
      "F#min7                            C#min7                            \n",
      "________________________________  ________________________________  \n",
      "F#min7                            C#min7                            \n",
      "________________________________  ________________________________  \n",
      "F#min7                            C#min7                            \n",
      "________________________________  ________________________________  \n",
      "A                                 B7                                \n",
      "________________________________  ________________________________  \n",
      "E6                                E6                                \n",
      "\n",
      "\n",
      " \n",
      "************************************* CHORUS1 *************************************\n",
      "________________________________  ________________________________  \n",
      "C#min7                            B                                 \n",
      "________________________________  ________________________________  \n",
      "C#min7                            G#min                             \n",
      "________________________________  ________________________________  \n",
      "C#min7                            G#min                             \n",
      "________________________________  ________________________________  \n",
      "B                                 B                                 \n",
      "\n",
      "\n",
      " \n",
      "************************************* VERSE2 *************************************\n",
      "________________________________  ________________________________  \n",
      "F#min7                            C#min7                            \n",
      "________________________________  ________________________________  \n",
      "F#min7                            C#min7                            \n",
      "________________________________  ________________________________  \n",
      "F#min7                            C#min7                            \n",
      "________________________________  ________________________________  \n",
      "A                                 B7                                \n",
      "________________________________  ________________________________  \n",
      "E6                                E6                                \n",
      "\n",
      "\n"
     ]
    }
   ],
   "source": [
    "# intro\n",
    "intro = SongPart([\n",
    "        Measure(Diac2()),Measure(Diac2()),Measure(Sixth(1)),Measure(Sixth(1)),\n",
    "        Measure(Diac2()),Measure(Diac2()),Measure(Sixth(1)),Measure(Sixth(1))\n",
    "    ],\n",
    "    part_type='intro'\n",
    ")\n",
    "\n",
    "verse1_measures = [\n",
    "    Measure(Diac2()),Measure(Diac6()),\n",
    "    Measure(Diac2()),Measure(Diac6()),\n",
    "    Measure(Diac2()),Measure(Diac6()),\n",
    "    Measure(Diatr4()),Measure(Diac5()),\n",
    "    Measure(Sixth(1)),Measure(Sixth(1))\n",
    "]\n",
    "\n",
    "verse1 = SongPart(verse1_measures + verse1_measures,part_type='verse1')\n",
    "\n",
    "chorus1_measures = [\n",
    "    Measure(Diac6()),Measure(Diatr5()),\n",
    "    Measure(Diac6()),Measure(Diatr3()),\n",
    "    Measure(Diac6()),Measure(Diatr3()),\n",
    "    Measure(Diatr5()),Measure(Diatr5()),\n",
    "]\n",
    "chorus1 = SongPart(chorus1_measures,part_type='chorus1')\n",
    "\n",
    "verse2 = SongPart(verse1_measures,part_type='verse2')\n",
    "\n",
    "and_i_love_her = Song([intro,verse1,chorus1,verse2])\n",
    "and_i_love_her.print_song('E')"
   ]
  },
  {
   "cell_type": "code",
   "execution_count": 14,
   "metadata": {},
   "outputs": [
    {
     "name": "stdout",
     "output_type": "stream",
     "text": [
      "************************************* INTRO1 *************************************\n",
      "________________________________  ________________________________  \n",
      "G7                                C/G                               \n",
      "________________________________  ________________________________  \n",
      "G7                                C/G                               \n",
      "________________________________  ________________________________  \n",
      "G7                                C/G                               \n",
      "________________________________  ________________________________  \n",
      "G7                                C/G                               \n",
      "\n",
      "\n",
      " \n",
      "************************************* VERSE1 *************************************\n",
      "________________________________  ________________________________  \n",
      "G                                 C/G                               \n",
      "________________________________  ________________________________  \n",
      "G7                                G7                                \n",
      "________________________________  ________________________________  \n",
      "G7                                F               G7                \n",
      "________________________________  ________________________________  \n",
      "C                                 G7                                \n",
      "________________________________  ________________________________  \n",
      "G7                                F               G7                \n",
      "________________________________  ________________________________  \n",
      "C                                 G                                 \n",
      "________________________________  ________________________________  \n",
      "C                                 G                                 \n",
      "________________________________  ________________________________  \n",
      "G7                                G7                                \n",
      "________________________________  ________________________________  \n",
      "F               G7                C                                 \n",
      "________________________________  ________________________________  \n",
      "G7                                G7                                \n",
      "________________________________  ________________________________  \n",
      "F               G7                C                                 \n",
      "\n",
      "\n",
      " \n",
      "************************************* CHORUS1 *************************************\n",
      "________________________________  ________________________________  \n",
      "G                                 C                                 \n",
      "________________________________  ________________________________  \n",
      "G                                 C                                 \n",
      "________________________________  ________________________________  \n",
      "Bdim            G7/B              C                                 \n",
      "________________________________  ________________________________  \n",
      "G7                                C                                 \n",
      "________________________________  ________________________________  \n",
      "G                                 C                                 \n",
      "________________________________  ________________________________  \n",
      "G                                 C                                 \n",
      "________________________________  ________________________________  \n",
      "Bdim            G7/B              C                                 \n",
      "________________________________  ________________________________  \n",
      "G7                                C                                 \n",
      "\n",
      "\n"
     ]
    }
   ],
   "source": [
    "d5 = Diac5()\n",
    "c7fd = Dim(7,shfl=SharpFlat.FLAT)\n",
    "c5 = Diatr5()\n",
    "c4 = Diatr4()\n",
    "c1 = Diatr1()\n",
    "d5ov7 = Dom7(5,bass_num=7)\n",
    "covg = Chord(1,bass_num=5)\n",
    "intro1 = SongPart([Measure(c) for c in [d5,covg]*4],'intro1')\n",
    "verse1_chs = [c5,covg,d5] + [d5,d5,[(c4,16),(d5,16)],c1]*2 + [c5,c1,c5] + [d5,d5,[(c4,16),(d5,16)],c1]*2 \n",
    "verse1_measures = [Measure(c) for c in verse1_chs]\n",
    "verse1 = SongPart(verse1_measures,part_type='verse1')\n",
    "chorus1_chs = [c5,c1,c5,c1,[(c7fd,16),(d5ov7,16)],c1,d5,c1]\n",
    "chorus1_measures = [Measure(c) for c in chorus1_chs] * 2\n",
    "chorus1 = SongPart(chorus1_measures,'chorus1')\n",
    "\n",
    "baby_your_a_rich_man = Song([intro1,verse1,chorus1])\n",
    "baby_your_a_rich_man.print_song('C')"
   ]
  },
  {
   "cell_type": "code",
   "execution_count": 15,
   "metadata": {},
   "outputs": [
    {
     "data": {
      "text/plain": [
       "[<songdef.Diatr5 at 0x1171d7208>,\n",
       " <songdef.Chord at 0x1171d72e8>,\n",
       " <songdef.Diac5 at 0x1171d71d0>,\n",
       " <songdef.Diac5 at 0x1171d71d0>,\n",
       " <songdef.Diac5 at 0x1171d71d0>,\n",
       " [(<songdef.Diatr4 at 0x1171d7240>, 16), (<songdef.Diac5 at 0x1171d71d0>, 16)],\n",
       " <songdef.Diatr1 at 0x1171d7278>,\n",
       " <songdef.Diac5 at 0x1171d71d0>,\n",
       " <songdef.Diac5 at 0x1171d71d0>,\n",
       " [(<songdef.Diatr4 at 0x1171d7240>, 16), (<songdef.Diac5 at 0x1171d71d0>, 16)],\n",
       " <songdef.Diatr1 at 0x1171d7278>,\n",
       " <songdef.Diatr5 at 0x1171d7208>,\n",
       " <songdef.Diatr1 at 0x1171d7278>,\n",
       " <songdef.Diatr5 at 0x1171d7208>,\n",
       " <songdef.Diac5 at 0x1171d71d0>,\n",
       " <songdef.Diac5 at 0x1171d71d0>,\n",
       " [(<songdef.Diatr4 at 0x1171d7240>, 16), (<songdef.Diac5 at 0x1171d71d0>, 16)],\n",
       " <songdef.Diatr1 at 0x1171d7278>,\n",
       " <songdef.Diac5 at 0x1171d71d0>,\n",
       " <songdef.Diac5 at 0x1171d71d0>,\n",
       " [(<songdef.Diatr4 at 0x1171d7240>, 16), (<songdef.Diac5 at 0x1171d71d0>, 16)],\n",
       " <songdef.Diatr1 at 0x1171d7278>]"
      ]
     },
     "execution_count": 15,
     "metadata": {},
     "output_type": "execute_result"
    }
   ],
   "source": [
    "verse1_chs"
   ]
  },
  {
   "cell_type": "code",
   "execution_count": 23,
   "metadata": {},
   "outputs": [
    {
     "name": "stdout",
     "output_type": "stream",
     "text": [
      "SMdec043e82ef44920a709bc79363f1559\n"
     ]
    }
   ],
   "source": []
  },
  {
   "cell_type": "code",
   "execution_count": null,
   "metadata": {},
   "outputs": [],
   "source": []
  },
  {
   "cell_type": "code",
   "execution_count": null,
   "metadata": {},
   "outputs": [],
   "source": []
  },
  {
   "cell_type": "code",
   "execution_count": null,
   "metadata": {},
   "outputs": [],
   "source": []
  },
  {
   "cell_type": "code",
   "execution_count": null,
   "metadata": {},
   "outputs": [],
   "source": []
  }
 ],
 "metadata": {
  "kernelspec": {
   "display_name": "Python 3",
   "language": "python",
   "name": "python3"
  },
  "language_info": {
   "codemirror_mode": {
    "name": "ipython",
    "version": 3
   },
   "file_extension": ".py",
   "mimetype": "text/x-python",
   "name": "python",
   "nbconvert_exporter": "python",
   "pygments_lexer": "ipython3",
   "version": "3.6.5"
  }
 },
 "nbformat": 4,
 "nbformat_minor": 4
}
